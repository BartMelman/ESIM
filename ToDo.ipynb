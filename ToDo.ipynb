{
 "cells": [
  {
   "cell_type": "markdown",
   "metadata": {},
   "source": [
    "# To Do"
   ]
  },
  {
   "cell_type": "markdown",
   "metadata": {},
   "source": [
    "- scripts\n",
    "1. Create fetch_data_fever.py\n",
    "DONE\n",
    "- scripts\n",
    "    - preprocessing\n",
    "2. Create preprocessing_fever_stage_2.py\n",
    "Load Data of data_fever_stage_2\n",
    "\n",
    "- scripts\n",
    "    - testing\n",
    "4. Create test_fever.py\n",
    "\n",
    "- scripts\n",
    "    - training\n",
    "5. Create train_fever.py\n",
    "\n",
    "- esim \n",
    "6. Create data_fever_stage_2.py\n",
    "Adapt read_data to load data\n",
    "\n",
    "\n",
    "- config\n",
    "    - preprocessing\n",
    "7. Create fever_preprocessing.json\n",
    "\n",
    "- config\n",
    "    - testing\n",
    "8. Create fever_testing.json\n",
    "\n",
    "- config\n",
    "    - training\n",
    "9. Create fever_training.json\n",
    "    - preprocessing\n",
    "10. Adapt fever_processing.json\n",
    "adapt labeldict\": {\"entailment\": 0,\n",
    "                  \"neutral\": 1,\n",
    "                  \"contradiction\": 2}\n",
    "add flag tags included\n",
    "add flag oov included\n",
    "\n"
   ]
  },
  {
   "cell_type": "code",
   "execution_count": null,
   "metadata": {},
   "outputs": [],
   "source": [
    "Stage 1:\n",
    "    input one evidence sentence, one claim\n",
    "    output 2 options labels\n",
    "    \n",
    "Stage 2:\n",
    "    input five evidence sentences concatenated, one claim\n",
    "    output 3 options labels\n"
   ]
  },
  {
   "cell_type": "code",
   "execution_count": null,
   "metadata": {},
   "outputs": [],
   "source": [
    "Train, dev and test data\n",
    "{\"ids\": ids,\n",
    "\"premises\": premises,\n",
    "\"hypotheses\": hypotheses,\n",
    "\"labels\": labels}"
   ]
  },
  {
   "cell_type": "code",
   "execution_count": null,
   "metadata": {},
   "outputs": [],
   "source": []
  },
  {
   "cell_type": "code",
   "execution_count": 3,
   "metadata": {},
   "outputs": [
    {
     "data": {
      "text/plain": [
       "tensor([1, 2])"
      ]
     },
     "execution_count": 3,
     "metadata": {},
     "output_type": "execute_result"
    }
   ],
   "source": [
    "import torch\n",
    "\n",
    "tmp = [[1,2],[3,4]]\n",
    "\n",
    "torch.tensor(tmp, dtype=torch.long)[0]"
   ]
  },
  {
   "cell_type": "code",
   "execution_count": null,
   "metadata": {},
   "outputs": [],
   "source": [
    "#\n",
    "python3 scripts/preprocessing/preprocess_fever_stage_2.py --config config/preprocessing/fever_preprocessing_stage_2.json\n",
    "python3 scripts/preprocessing/preprocess_fever_stage_3.py --config config/preprocessing/fever_preprocessing_stage_3.json\n",
    "\n",
    "python3 scripts/training/train_fever_stage_2.py --config config/training/fever_stage_2_training.json\n",
    "python3 scripts/training/train_fever_stage_3.py --config config/training/fever_stage_3_training.json\n",
    "\n",
    "python3 scripts/training/train_fever_stage_2.py --config config/training/fever_stage_2_training_pos_oov.json\n",
    "python3 scripts/training/train_fever_stage_3.py --config config/training/fever_stage_3_training_pos_oov.json\n",
    "\n",
    "\n",
    "\n"
   ]
  },
  {
   "cell_type": "code",
   "execution_count": null,
   "metadata": {},
   "outputs": [],
   "source": []
  },
  {
   "cell_type": "code",
   "execution_count": null,
   "metadata": {},
   "outputs": [],
   "source": []
  },
  {
   "cell_type": "code",
   "execution_count": null,
   "metadata": {},
   "outputs": [],
   "source": []
  },
  {
   "cell_type": "code",
   "execution_count": null,
   "metadata": {},
   "outputs": [],
   "source": []
  }
 ],
 "metadata": {
  "kernelspec": {
   "display_name": "Python 3",
   "language": "python",
   "name": "python3"
  },
  "language_info": {
   "codemirror_mode": {
    "name": "ipython",
    "version": 3
   },
   "file_extension": ".py",
   "mimetype": "text/x-python",
   "name": "python",
   "nbconvert_exporter": "python",
   "pygments_lexer": "ipython3",
   "version": "3.6.8"
  }
 },
 "nbformat": 4,
 "nbformat_minor": 2
}
