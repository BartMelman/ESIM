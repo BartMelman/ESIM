{
 "cells": [
  {
   "cell_type": "code",
   "execution_count": 1,
   "metadata": {},
   "outputs": [],
   "source": [
    "import torch"
   ]
  },
  {
   "cell_type": "code",
   "execution_count": 17,
   "metadata": {},
   "outputs": [],
   "source": [
    "def get_losses(path_model):\n",
    "    checkpoint = torch.load(path_model)\n",
    "    train_loss = checkpoint['train_losses'][-1]\n",
    "    val_loss = checkpoint['valid_losses'][-1]\n",
    "    epoch = checkpoint['epochs_count'][-1]\n",
    "    val_acc = checkpoint['best_score'] # validation accuracy\n",
    "    return epoch, train_loss, val_loss, val_acc"
   ]
  },
  {
   "cell_type": "markdown",
   "metadata": {},
   "source": [
    "# Stage 2"
   ]
  },
  {
   "cell_type": "code",
   "execution_count": 19,
   "metadata": {},
   "outputs": [
    {
     "data": {
      "text/plain": [
       "(9, 0.12433553530483714, 0.227140979878456, 0.9268768955918402)"
      ]
     },
     "execution_count": 19,
     "metadata": {},
     "output_type": "execute_result"
    }
   ],
   "source": [
    "path_model = '/mnt/01_thesis/01_code/ESIM/data/checkpoints_old/FEVER_stage_2/best.pth.tar'\n",
    "get_losses(path_model)"
   ]
  },
  {
   "cell_type": "code",
   "execution_count": 21,
   "metadata": {},
   "outputs": [
    {
     "data": {
      "text/plain": [
       "(14, 0.096479237616455, 0.2406637340890439, 0.9272923677759773)"
      ]
     },
     "execution_count": 21,
     "metadata": {},
     "output_type": "execute_result"
    }
   ],
   "source": [
    "path_model = '/mnt/01_thesis/01_code/ESIM/data/checkpoints_old/FEVER_stage_2_oov/best.pth.tar'\n",
    "get_losses(path_model)"
   ]
  },
  {
   "cell_type": "code",
   "execution_count": 20,
   "metadata": {},
   "outputs": [
    {
     "data": {
      "text/plain": [
       "(19, 0.08663889101920379, 0.24721124073042772, 0.9282064065810794)"
      ]
     },
     "execution_count": 20,
     "metadata": {},
     "output_type": "execute_result"
    }
   ],
   "source": [
    "path_model = '/mnt/01_thesis/01_code/ESIM/data/checkpoints_old/FEVER_stage_2_pos_oov/best.pth.tar'\n",
    "get_losses(path_model)"
   ]
  },
  {
   "cell_type": "markdown",
   "metadata": {},
   "source": [
    "# Stage 3"
   ]
  },
  {
   "cell_type": "code",
   "execution_count": 22,
   "metadata": {},
   "outputs": [
    {
     "data": {
      "text/plain": [
       "(19, 0.2386049636511653, 0.46900219056341386, 0.8574930408409157)"
      ]
     },
     "execution_count": 22,
     "metadata": {},
     "output_type": "execute_result"
    }
   ],
   "source": [
    "path_model = '/mnt/01_thesis/01_code/ESIM/data/checkpoints_old/FEVER_stage_3/best.pth.tar'\n",
    "get_losses(path_model)"
   ]
  },
  {
   "cell_type": "code",
   "execution_count": 24,
   "metadata": {},
   "outputs": [
    {
     "data": {
      "text/plain": [
       "(16, 0.1726853083231557, 0.4835176710039377, 0.8671319955129004)"
      ]
     },
     "execution_count": 24,
     "metadata": {},
     "output_type": "execute_result"
    }
   ],
   "source": [
    "path_model = '/mnt/01_thesis/01_code/ESIM/data/checkpoints_old/FEVER_stage_3_pos_oov/best.pth.tar'\n",
    "get_losses(path_model)"
   ]
  },
  {
   "cell_type": "code",
   "execution_count": null,
   "metadata": {},
   "outputs": [],
   "source": []
  },
  {
   "cell_type": "code",
   "execution_count": null,
   "metadata": {},
   "outputs": [],
   "source": []
  },
  {
   "cell_type": "code",
   "execution_count": null,
   "metadata": {},
   "outputs": [],
   "source": []
  },
  {
   "cell_type": "code",
   "execution_count": null,
   "metadata": {},
   "outputs": [],
   "source": []
  }
 ],
 "metadata": {
  "kernelspec": {
   "display_name": "Python 3",
   "language": "python",
   "name": "python3"
  },
  "language_info": {
   "codemirror_mode": {
    "name": "ipython",
    "version": 3
   },
   "file_extension": ".py",
   "mimetype": "text/x-python",
   "name": "python",
   "nbconvert_exporter": "python",
   "pygments_lexer": "ipython3",
   "version": "3.6.8"
  }
 },
 "nbformat": 4,
 "nbformat_minor": 2
}
